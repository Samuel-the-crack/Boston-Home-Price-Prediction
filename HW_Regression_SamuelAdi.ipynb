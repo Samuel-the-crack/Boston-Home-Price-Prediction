{
 "cells": [
  {
   "cell_type": "code",
   "execution_count": 1,
   "id": "efd09515",
   "metadata": {},
   "outputs": [],
   "source": [
    "import numpy as np\n",
    "import pandas as pd \n",
    "import matplotlib.pyplot as plt \n",
    "import seaborn as sns"
   ]
  },
  {
   "cell_type": "markdown",
   "id": "cfaede3d",
   "metadata": {},
   "source": [
    "### 1. Load The Data "
   ]
  },
  {
   "cell_type": "code",
   "execution_count": 2,
   "id": "88f20fc1",
   "metadata": {},
   "outputs": [
    {
     "data": {
      "text/html": [
       "<div>\n",
       "<style scoped>\n",
       "    .dataframe tbody tr th:only-of-type {\n",
       "        vertical-align: middle;\n",
       "    }\n",
       "\n",
       "    .dataframe tbody tr th {\n",
       "        vertical-align: top;\n",
       "    }\n",
       "\n",
       "    .dataframe thead th {\n",
       "        text-align: right;\n",
       "    }\n",
       "</style>\n",
       "<table border=\"1\" class=\"dataframe\">\n",
       "  <thead>\n",
       "    <tr style=\"text-align: right;\">\n",
       "      <th></th>\n",
       "      <th>crim</th>\n",
       "      <th>zn</th>\n",
       "      <th>indus</th>\n",
       "      <th>chas</th>\n",
       "      <th>nox</th>\n",
       "      <th>rm</th>\n",
       "      <th>age</th>\n",
       "      <th>dis</th>\n",
       "      <th>rad</th>\n",
       "      <th>tax</th>\n",
       "      <th>ptratio</th>\n",
       "      <th>black</th>\n",
       "      <th>lstat</th>\n",
       "      <th>medv</th>\n",
       "    </tr>\n",
       "  </thead>\n",
       "  <tbody>\n",
       "    <tr>\n",
       "      <th>0</th>\n",
       "      <td>0.00632</td>\n",
       "      <td>18.0</td>\n",
       "      <td>2.31</td>\n",
       "      <td>0</td>\n",
       "      <td>0.538</td>\n",
       "      <td>6.575</td>\n",
       "      <td>65.2</td>\n",
       "      <td>4.0900</td>\n",
       "      <td>1</td>\n",
       "      <td>296</td>\n",
       "      <td>15.3</td>\n",
       "      <td>396.90</td>\n",
       "      <td>4.98</td>\n",
       "      <td>24.0</td>\n",
       "    </tr>\n",
       "    <tr>\n",
       "      <th>1</th>\n",
       "      <td>0.02731</td>\n",
       "      <td>0.0</td>\n",
       "      <td>7.07</td>\n",
       "      <td>0</td>\n",
       "      <td>0.469</td>\n",
       "      <td>6.421</td>\n",
       "      <td>78.9</td>\n",
       "      <td>4.9671</td>\n",
       "      <td>2</td>\n",
       "      <td>242</td>\n",
       "      <td>17.8</td>\n",
       "      <td>396.90</td>\n",
       "      <td>9.14</td>\n",
       "      <td>21.6</td>\n",
       "    </tr>\n",
       "    <tr>\n",
       "      <th>2</th>\n",
       "      <td>0.02729</td>\n",
       "      <td>0.0</td>\n",
       "      <td>7.07</td>\n",
       "      <td>0</td>\n",
       "      <td>0.469</td>\n",
       "      <td>7.185</td>\n",
       "      <td>61.1</td>\n",
       "      <td>4.9671</td>\n",
       "      <td>2</td>\n",
       "      <td>242</td>\n",
       "      <td>17.8</td>\n",
       "      <td>392.83</td>\n",
       "      <td>4.03</td>\n",
       "      <td>34.7</td>\n",
       "    </tr>\n",
       "    <tr>\n",
       "      <th>3</th>\n",
       "      <td>0.03237</td>\n",
       "      <td>0.0</td>\n",
       "      <td>2.18</td>\n",
       "      <td>0</td>\n",
       "      <td>0.458</td>\n",
       "      <td>6.998</td>\n",
       "      <td>45.8</td>\n",
       "      <td>6.0622</td>\n",
       "      <td>3</td>\n",
       "      <td>222</td>\n",
       "      <td>18.7</td>\n",
       "      <td>394.63</td>\n",
       "      <td>2.94</td>\n",
       "      <td>33.4</td>\n",
       "    </tr>\n",
       "    <tr>\n",
       "      <th>4</th>\n",
       "      <td>0.06905</td>\n",
       "      <td>0.0</td>\n",
       "      <td>2.18</td>\n",
       "      <td>0</td>\n",
       "      <td>0.458</td>\n",
       "      <td>7.147</td>\n",
       "      <td>54.2</td>\n",
       "      <td>6.0622</td>\n",
       "      <td>3</td>\n",
       "      <td>222</td>\n",
       "      <td>18.7</td>\n",
       "      <td>396.90</td>\n",
       "      <td>5.33</td>\n",
       "      <td>36.2</td>\n",
       "    </tr>\n",
       "    <tr>\n",
       "      <th>...</th>\n",
       "      <td>...</td>\n",
       "      <td>...</td>\n",
       "      <td>...</td>\n",
       "      <td>...</td>\n",
       "      <td>...</td>\n",
       "      <td>...</td>\n",
       "      <td>...</td>\n",
       "      <td>...</td>\n",
       "      <td>...</td>\n",
       "      <td>...</td>\n",
       "      <td>...</td>\n",
       "      <td>...</td>\n",
       "      <td>...</td>\n",
       "      <td>...</td>\n",
       "    </tr>\n",
       "    <tr>\n",
       "      <th>501</th>\n",
       "      <td>0.06263</td>\n",
       "      <td>0.0</td>\n",
       "      <td>11.93</td>\n",
       "      <td>0</td>\n",
       "      <td>0.573</td>\n",
       "      <td>6.593</td>\n",
       "      <td>69.1</td>\n",
       "      <td>2.4786</td>\n",
       "      <td>1</td>\n",
       "      <td>273</td>\n",
       "      <td>21.0</td>\n",
       "      <td>391.99</td>\n",
       "      <td>9.67</td>\n",
       "      <td>22.4</td>\n",
       "    </tr>\n",
       "    <tr>\n",
       "      <th>502</th>\n",
       "      <td>0.04527</td>\n",
       "      <td>0.0</td>\n",
       "      <td>11.93</td>\n",
       "      <td>0</td>\n",
       "      <td>0.573</td>\n",
       "      <td>6.120</td>\n",
       "      <td>76.7</td>\n",
       "      <td>2.2875</td>\n",
       "      <td>1</td>\n",
       "      <td>273</td>\n",
       "      <td>21.0</td>\n",
       "      <td>396.90</td>\n",
       "      <td>9.08</td>\n",
       "      <td>20.6</td>\n",
       "    </tr>\n",
       "    <tr>\n",
       "      <th>503</th>\n",
       "      <td>0.06076</td>\n",
       "      <td>0.0</td>\n",
       "      <td>11.93</td>\n",
       "      <td>0</td>\n",
       "      <td>0.573</td>\n",
       "      <td>6.976</td>\n",
       "      <td>91.0</td>\n",
       "      <td>2.1675</td>\n",
       "      <td>1</td>\n",
       "      <td>273</td>\n",
       "      <td>21.0</td>\n",
       "      <td>396.90</td>\n",
       "      <td>5.64</td>\n",
       "      <td>23.9</td>\n",
       "    </tr>\n",
       "    <tr>\n",
       "      <th>504</th>\n",
       "      <td>0.10959</td>\n",
       "      <td>0.0</td>\n",
       "      <td>11.93</td>\n",
       "      <td>0</td>\n",
       "      <td>0.573</td>\n",
       "      <td>6.794</td>\n",
       "      <td>89.3</td>\n",
       "      <td>2.3889</td>\n",
       "      <td>1</td>\n",
       "      <td>273</td>\n",
       "      <td>21.0</td>\n",
       "      <td>393.45</td>\n",
       "      <td>6.48</td>\n",
       "      <td>22.0</td>\n",
       "    </tr>\n",
       "    <tr>\n",
       "      <th>505</th>\n",
       "      <td>0.04741</td>\n",
       "      <td>0.0</td>\n",
       "      <td>11.93</td>\n",
       "      <td>0</td>\n",
       "      <td>0.573</td>\n",
       "      <td>6.030</td>\n",
       "      <td>80.8</td>\n",
       "      <td>2.5050</td>\n",
       "      <td>1</td>\n",
       "      <td>273</td>\n",
       "      <td>21.0</td>\n",
       "      <td>396.90</td>\n",
       "      <td>7.88</td>\n",
       "      <td>11.9</td>\n",
       "    </tr>\n",
       "  </tbody>\n",
       "</table>\n",
       "<p>506 rows × 14 columns</p>\n",
       "</div>"
      ],
      "text/plain": [
       "        crim    zn  indus  chas    nox     rm   age     dis  rad  tax  \\\n",
       "0    0.00632  18.0   2.31     0  0.538  6.575  65.2  4.0900    1  296   \n",
       "1    0.02731   0.0   7.07     0  0.469  6.421  78.9  4.9671    2  242   \n",
       "2    0.02729   0.0   7.07     0  0.469  7.185  61.1  4.9671    2  242   \n",
       "3    0.03237   0.0   2.18     0  0.458  6.998  45.8  6.0622    3  222   \n",
       "4    0.06905   0.0   2.18     0  0.458  7.147  54.2  6.0622    3  222   \n",
       "..       ...   ...    ...   ...    ...    ...   ...     ...  ...  ...   \n",
       "501  0.06263   0.0  11.93     0  0.573  6.593  69.1  2.4786    1  273   \n",
       "502  0.04527   0.0  11.93     0  0.573  6.120  76.7  2.2875    1  273   \n",
       "503  0.06076   0.0  11.93     0  0.573  6.976  91.0  2.1675    1  273   \n",
       "504  0.10959   0.0  11.93     0  0.573  6.794  89.3  2.3889    1  273   \n",
       "505  0.04741   0.0  11.93     0  0.573  6.030  80.8  2.5050    1  273   \n",
       "\n",
       "     ptratio   black  lstat  medv  \n",
       "0       15.3  396.90   4.98  24.0  \n",
       "1       17.8  396.90   9.14  21.6  \n",
       "2       17.8  392.83   4.03  34.7  \n",
       "3       18.7  394.63   2.94  33.4  \n",
       "4       18.7  396.90   5.33  36.2  \n",
       "..       ...     ...    ...   ...  \n",
       "501     21.0  391.99   9.67  22.4  \n",
       "502     21.0  396.90   9.08  20.6  \n",
       "503     21.0  396.90   5.64  23.9  \n",
       "504     21.0  393.45   6.48  22.0  \n",
       "505     21.0  396.90   7.88  11.9  \n",
       "\n",
       "[506 rows x 14 columns]"
      ]
     },
     "execution_count": 2,
     "metadata": {},
     "output_type": "execute_result"
    }
   ],
   "source": [
    "data = pd.read_csv('boston.csv')\n",
    "data"
   ]
  },
  {
   "cell_type": "markdown",
   "id": "f3362bf6",
   "metadata": {},
   "source": [
    "### 2. Split Data (Train, Validation, Test)"
   ]
  },
  {
   "cell_type": "code",
   "execution_count": 3,
   "id": "555fb997",
   "metadata": {},
   "outputs": [],
   "source": [
    "# Defining the target and feature, target = medv\n",
    "feature = data.drop(columns='medv')\n",
    "target = data['medv']"
   ]
  },
  {
   "cell_type": "code",
   "execution_count": 4,
   "id": "a75d9709",
   "metadata": {},
   "outputs": [],
   "source": [
    "# split the data into train, validate, test \n",
    "from sklearn.model_selection import train_test_split\n",
    "\n",
    "feature_pretrain_data, feature_test_data, target_pretrain_data, target_test_data = train_test_split(feature, target, test_size= 0.2, random_state= 53)\n",
    "feature_train_data, feature_validate_data, target_train_data, target_validate_data = train_test_split(feature_pretrain_data, target_pretrain_data, test_size= 0.2, random_state= 52)"
   ]
  },
  {
   "cell_type": "code",
   "execution_count": 5,
   "id": "07fc1a1d",
   "metadata": {
    "scrolled": true
   },
   "outputs": [
    {
     "name": "stderr",
     "output_type": "stream",
     "text": [
      "C:\\Users\\ASUS\\anaconda3\\lib\\site-packages\\statsmodels\\tsa\\tsatools.py:142: FutureWarning: In a future version of pandas all arguments of concat except for the argument 'objs' will be keyword-only\n",
      "  x = pd.concat(x[::order], 1)\n"
     ]
    },
    {
     "data": {
      "text/html": [
       "<div>\n",
       "<style scoped>\n",
       "    .dataframe tbody tr th:only-of-type {\n",
       "        vertical-align: middle;\n",
       "    }\n",
       "\n",
       "    .dataframe tbody tr th {\n",
       "        vertical-align: top;\n",
       "    }\n",
       "\n",
       "    .dataframe thead th {\n",
       "        text-align: right;\n",
       "    }\n",
       "</style>\n",
       "<table border=\"1\" class=\"dataframe\">\n",
       "  <thead>\n",
       "    <tr style=\"text-align: right;\">\n",
       "      <th></th>\n",
       "      <th>feature</th>\n",
       "      <th>vif_score</th>\n",
       "    </tr>\n",
       "  </thead>\n",
       "  <tbody>\n",
       "    <tr>\n",
       "      <th>1</th>\n",
       "      <td>crim</td>\n",
       "      <td>1.788472</td>\n",
       "    </tr>\n",
       "    <tr>\n",
       "      <th>2</th>\n",
       "      <td>zn</td>\n",
       "      <td>2.467090</td>\n",
       "    </tr>\n",
       "    <tr>\n",
       "      <th>3</th>\n",
       "      <td>indus</td>\n",
       "      <td>4.722670</td>\n",
       "    </tr>\n",
       "    <tr>\n",
       "      <th>4</th>\n",
       "      <td>chas</td>\n",
       "      <td>1.091597</td>\n",
       "    </tr>\n",
       "    <tr>\n",
       "      <th>5</th>\n",
       "      <td>nox</td>\n",
       "      <td>4.726355</td>\n",
       "    </tr>\n",
       "    <tr>\n",
       "      <th>6</th>\n",
       "      <td>rm</td>\n",
       "      <td>1.866751</td>\n",
       "    </tr>\n",
       "    <tr>\n",
       "      <th>7</th>\n",
       "      <td>age</td>\n",
       "      <td>3.200367</td>\n",
       "    </tr>\n",
       "    <tr>\n",
       "      <th>8</th>\n",
       "      <td>dis</td>\n",
       "      <td>4.033914</td>\n",
       "    </tr>\n",
       "    <tr>\n",
       "      <th>9</th>\n",
       "      <td>rad</td>\n",
       "      <td>7.032778</td>\n",
       "    </tr>\n",
       "    <tr>\n",
       "      <th>10</th>\n",
       "      <td>tax</td>\n",
       "      <td>8.914045</td>\n",
       "    </tr>\n",
       "    <tr>\n",
       "      <th>11</th>\n",
       "      <td>ptratio</td>\n",
       "      <td>1.826174</td>\n",
       "    </tr>\n",
       "    <tr>\n",
       "      <th>12</th>\n",
       "      <td>black</td>\n",
       "      <td>1.350360</td>\n",
       "    </tr>\n",
       "    <tr>\n",
       "      <th>13</th>\n",
       "      <td>lstat</td>\n",
       "      <td>3.055763</td>\n",
       "    </tr>\n",
       "  </tbody>\n",
       "</table>\n",
       "</div>"
      ],
      "text/plain": [
       "    feature  vif_score\n",
       "1      crim   1.788472\n",
       "2        zn   2.467090\n",
       "3     indus   4.722670\n",
       "4      chas   1.091597\n",
       "5       nox   4.726355\n",
       "6        rm   1.866751\n",
       "7       age   3.200367\n",
       "8       dis   4.033914\n",
       "9       rad   7.032778\n",
       "10      tax   8.914045\n",
       "11  ptratio   1.826174\n",
       "12    black   1.350360\n",
       "13    lstat   3.055763"
      ]
     },
     "execution_count": 5,
     "metadata": {},
     "output_type": "execute_result"
    }
   ],
   "source": [
    "# calculate vif score \n",
    "from statsmodels.stats.outliers_influence import variance_inflation_factor as vif \n",
    "from statsmodels.tools.tools import add_constant\n",
    "\n",
    "x = add_constant(feature_train_data)\n",
    "vif_df = pd.DataFrame([vif(x.values, i) for i in range(x.shape[1])], index=x.columns).reset_index()\n",
    "vif_df.columns = ['feature','vif_score']\n",
    "vif_df = vif_df.loc[vif_df.feature!='const']\n",
    "vif_df"
   ]
  },
  {
   "cell_type": "markdown",
   "id": "d7df572d",
   "metadata": {},
   "source": [
    "Feature that Highly correlated (VIF > 5) : \n",
    "1. tax\n",
    "2. rad"
   ]
  },
  {
   "cell_type": "markdown",
   "id": "e4c99fca",
   "metadata": {},
   "source": [
    "### 3. Correlation Plot"
   ]
  },
  {
   "cell_type": "code",
   "execution_count": 6,
   "id": "9dda7a90",
   "metadata": {},
   "outputs": [
    {
     "data": {
      "text/plain": [
       "<AxesSubplot:>"
      ]
     },
     "execution_count": 6,
     "metadata": {},
     "output_type": "execute_result"
    },
    {
     "data": {
      "image/png": "[encoded data removed]",
      "text/plain": [
       "<Figure size 864x720 with 2 Axes>"
      ]
     },
     "metadata": {
      "needs_background": "light"
     },
     "output_type": "display_data"
    }
   ],
   "source": [
    "# analyse the training data \n",
    "data_train = pd.concat([feature_train_data, target_train_data], axis = 1)\n",
    "train_corr = data_train.corr()\n",
    "plt.figure(figsize = (12,10))\n",
    "sns.heatmap(train_corr, annot=True)"
   ]
  },
  {
   "cell_type": "markdown",
   "id": "acb0a520",
   "metadata": {},
   "source": [
    "Based on this heatmap, i want to retain rad and drop tax from feature"
   ]
  },
  {
   "cell_type": "code",
   "execution_count": 7,
   "id": "3337008b",
   "metadata": {},
   "outputs": [],
   "source": [
    "feature_train_data = feature_train_data.drop(columns= 'tax')\n",
    "feature_test_data = feature_test_data.drop(columns= 'tax')\n",
    "feature_validate_data = feature_validate_data.drop(columns= 'tax')"
   ]
  },
  {
   "cell_type": "code",
   "execution_count": 8,
   "id": "819aad36",
   "metadata": {},
   "outputs": [
    {
     "data": {
      "text/html": [
       "<div>\n",
       "<style scoped>\n",
       "    .dataframe tbody tr th:only-of-type {\n",
       "        vertical-align: middle;\n",
       "    }\n",
       "\n",
       "    .dataframe tbody tr th {\n",
       "        vertical-align: top;\n",
       "    }\n",
       "\n",
       "    .dataframe thead th {\n",
       "        text-align: right;\n",
       "    }\n",
       "</style>\n",
       "<table border=\"1\" class=\"dataframe\">\n",
       "  <thead>\n",
       "    <tr style=\"text-align: right;\">\n",
       "      <th></th>\n",
       "      <th>crim</th>\n",
       "      <th>zn</th>\n",
       "      <th>indus</th>\n",
       "      <th>chas</th>\n",
       "      <th>nox</th>\n",
       "      <th>rm</th>\n",
       "      <th>age</th>\n",
       "      <th>dis</th>\n",
       "      <th>rad</th>\n",
       "      <th>ptratio</th>\n",
       "      <th>black</th>\n",
       "      <th>lstat</th>\n",
       "    </tr>\n",
       "  </thead>\n",
       "  <tbody>\n",
       "    <tr>\n",
       "      <th>290</th>\n",
       "      <td>0.03502</td>\n",
       "      <td>80.0</td>\n",
       "      <td>4.95</td>\n",
       "      <td>0</td>\n",
       "      <td>0.411</td>\n",
       "      <td>6.861</td>\n",
       "      <td>27.9</td>\n",
       "      <td>5.1167</td>\n",
       "      <td>4</td>\n",
       "      <td>19.2</td>\n",
       "      <td>396.90</td>\n",
       "      <td>3.33</td>\n",
       "    </tr>\n",
       "    <tr>\n",
       "      <th>67</th>\n",
       "      <td>0.05789</td>\n",
       "      <td>12.5</td>\n",
       "      <td>6.07</td>\n",
       "      <td>0</td>\n",
       "      <td>0.409</td>\n",
       "      <td>5.878</td>\n",
       "      <td>21.4</td>\n",
       "      <td>6.4980</td>\n",
       "      <td>4</td>\n",
       "      <td>18.9</td>\n",
       "      <td>396.21</td>\n",
       "      <td>8.10</td>\n",
       "    </tr>\n",
       "    <tr>\n",
       "      <th>272</th>\n",
       "      <td>0.11460</td>\n",
       "      <td>20.0</td>\n",
       "      <td>6.96</td>\n",
       "      <td>0</td>\n",
       "      <td>0.464</td>\n",
       "      <td>6.538</td>\n",
       "      <td>58.7</td>\n",
       "      <td>3.9175</td>\n",
       "      <td>3</td>\n",
       "      <td>18.6</td>\n",
       "      <td>394.96</td>\n",
       "      <td>7.73</td>\n",
       "    </tr>\n",
       "    <tr>\n",
       "      <th>32</th>\n",
       "      <td>1.38799</td>\n",
       "      <td>0.0</td>\n",
       "      <td>8.14</td>\n",
       "      <td>0</td>\n",
       "      <td>0.538</td>\n",
       "      <td>5.950</td>\n",
       "      <td>82.0</td>\n",
       "      <td>3.9900</td>\n",
       "      <td>4</td>\n",
       "      <td>21.0</td>\n",
       "      <td>232.60</td>\n",
       "      <td>27.71</td>\n",
       "    </tr>\n",
       "    <tr>\n",
       "      <th>189</th>\n",
       "      <td>0.08370</td>\n",
       "      <td>45.0</td>\n",
       "      <td>3.44</td>\n",
       "      <td>0</td>\n",
       "      <td>0.437</td>\n",
       "      <td>7.185</td>\n",
       "      <td>38.9</td>\n",
       "      <td>4.5667</td>\n",
       "      <td>5</td>\n",
       "      <td>15.2</td>\n",
       "      <td>396.90</td>\n",
       "      <td>5.39</td>\n",
       "    </tr>\n",
       "  </tbody>\n",
       "</table>\n",
       "</div>"
      ],
      "text/plain": [
       "        crim    zn  indus  chas    nox     rm   age     dis  rad  ptratio  \\\n",
       "290  0.03502  80.0   4.95     0  0.411  6.861  27.9  5.1167    4     19.2   \n",
       "67   0.05789  12.5   6.07     0  0.409  5.878  21.4  6.4980    4     18.9   \n",
       "272  0.11460  20.0   6.96     0  0.464  6.538  58.7  3.9175    3     18.6   \n",
       "32   1.38799   0.0   8.14     0  0.538  5.950  82.0  3.9900    4     21.0   \n",
       "189  0.08370  45.0   3.44     0  0.437  7.185  38.9  4.5667    5     15.2   \n",
       "\n",
       "      black  lstat  \n",
       "290  396.90   3.33  \n",
       "67   396.21   8.10  \n",
       "272  394.96   7.73  \n",
       "32   232.60  27.71  \n",
       "189  396.90   5.39  "
      ]
     },
     "execution_count": 8,
     "metadata": {},
     "output_type": "execute_result"
    }
   ],
   "source": [
    "# recheck the data\n",
    "feature_train_data.head()"
   ]
  },
  {
   "cell_type": "markdown",
   "id": "241259e4",
   "metadata": {},
   "source": [
    "### 4. Fit Data on The Train Data"
   ]
  },
  {
   "cell_type": "code",
   "execution_count": 9,
   "id": "706fec6f",
   "metadata": {},
   "outputs": [],
   "source": [
    "# lambda = [0.01, 0.1, 1, 10] "
   ]
  },
  {
   "cell_type": "code",
   "execution_count": 10,
   "id": "f152cf51",
   "metadata": {},
   "outputs": [],
   "source": [
    "# defining x and y data train\n",
    "x_data_train = feature_train_data.to_numpy()\n",
    "y_data_train = target_train_data.to_numpy()\n",
    "y_data_train = y_data_train.reshape(len(y_data_train),)"
   ]
  },
  {
   "cell_type": "markdown",
   "id": "167967f8",
   "metadata": {},
   "source": [
    "#### A. Ridge"
   ]
  },
  {
   "cell_type": "code",
   "execution_count": 11,
   "id": "14dbc530",
   "metadata": {},
   "outputs": [
    {
     "data": {
      "text/plain": [
       "Ridge(alpha=10, random_state=52)"
      ]
     },
     "execution_count": 11,
     "metadata": {},
     "output_type": "execute_result"
    }
   ],
   "source": [
    "from sklearn.linear_model import Ridge\n",
    "# Define the model \n",
    "ridge_reg_pointzeroone = Ridge(alpha = 0.01, random_state=52)\n",
    "ridge_reg_pointone = Ridge(alpha = 0.1, random_state=52)\n",
    "ridge_reg_one = Ridge(alpha = 1, random_state=52)\n",
    "ridge_reg_ten = Ridge(alpha=10, random_state=52)\n",
    "\n",
    "# fit the model \n",
    "ridge_reg_pointzeroone.fit(x_data_train, y_data_train)\n",
    "ridge_reg_pointone.fit(x_data_train, y_data_train)\n",
    "ridge_reg_one.fit(x_data_train, y_data_train)\n",
    "ridge_reg_ten.fit(x_data_train, y_data_train)"
   ]
  },
  {
   "cell_type": "markdown",
   "id": "fc85c71f",
   "metadata": {},
   "source": [
    "#### B. LASSO"
   ]
  },
  {
   "cell_type": "code",
   "execution_count": 12,
   "id": "03288604",
   "metadata": {},
   "outputs": [
    {
     "data": {
      "text/plain": [
       "Lasso(alpha=10, random_state=52)"
      ]
     },
     "execution_count": 12,
     "metadata": {},
     "output_type": "execute_result"
    }
   ],
   "source": [
    "from sklearn.linear_model import Lasso\n",
    "# Define the model \n",
    "lasso_reg_pointzeroone = Lasso(alpha=0.01, random_state=52)\n",
    "lasso_reg_pointone = Lasso(alpha=0.1, random_state=52)\n",
    "lasso_reg_one = Lasso(alpha=1, random_state=52)\n",
    "lasso_reg_ten = Lasso(alpha=10, random_state=52)\n",
    "\n",
    "#fit the model \n",
    "lasso_reg_pointzeroone.fit(x_data_train, y_data_train)\n",
    "lasso_reg_pointone.fit(x_data_train, y_data_train)\n",
    "lasso_reg_one.fit(x_data_train, y_data_train)\n",
    "lasso_reg_ten.fit(x_data_train, y_data_train)"
   ]
  },
  {
   "cell_type": "markdown",
   "id": "0546460c",
   "metadata": {},
   "source": [
    "### 5. Choose The Best Lambda"
   ]
  },
  {
   "cell_type": "code",
   "execution_count": 13,
   "id": "7aca327a",
   "metadata": {},
   "outputs": [],
   "source": [
    "from sklearn.metrics import mean_squared_error\n",
    "alphas = [0.01, 0.1, 1, 10]\n",
    "\n",
    "# defining x and y data validation \n",
    "x_data_validation = feature_validate_data.to_numpy()\n",
    "y_data_validation = target_validate_data.to_numpy()\n",
    "y_data_validation = y_data_validation.reshape(len(y_data_validation),)"
   ]
  },
  {
   "cell_type": "markdown",
   "id": "fee2a8a9",
   "metadata": {},
   "source": [
    "#### A. Ridge "
   ]
  },
  {
   "cell_type": "code",
   "execution_count": 14,
   "id": "16c2f61c",
   "metadata": {},
   "outputs": [],
   "source": [
    "# modelling based on validation data\n",
    "models_ridge = [ridge_reg_pointzeroone, ridge_reg_pointone,\n",
    "              ridge_reg_one, ridge_reg_ten]"
   ]
  },
  {
   "cell_type": "code",
   "execution_count": 15,
   "id": "179f3c6d",
   "metadata": {},
   "outputs": [
    {
     "name": "stdout",
     "output_type": "stream",
     "text": [
      "RMSE of Ridge model with alpha = 0.01  is  3.8187230938414913\n",
      "RMSE of Ridge model with alpha = 0.1  is  3.8139513990085914\n",
      "RMSE of Ridge model with alpha = 1  is  3.804728971631597\n",
      "RMSE of Ridge model with alpha = 10  is  3.8548006201947467\n"
     ]
    }
   ],
   "source": [
    "for model_ridge, alpha in zip(models_ridge,alphas):\n",
    "    y_medv_validation_ridge = model_ridge.predict(x_data_validation)\n",
    "    rmse_ridge = np.sqrt(mean_squared_error(y_data_validation,y_medv_validation_ridge))\n",
    "    print('RMSE of Ridge model with alpha =', alpha,' is ',rmse_ridge)"
   ]
  },
  {
   "cell_type": "markdown",
   "id": "42aac85d",
   "metadata": {},
   "source": [
    "#### B. LASSO"
   ]
  },
  {
   "cell_type": "code",
   "execution_count": 16,
   "id": "3e177bc4",
   "metadata": {},
   "outputs": [],
   "source": [
    "# modelling based on validation data \n",
    "models_lasso = [lasso_reg_pointzeroone, lasso_reg_pointone,\n",
    "               lasso_reg_one, lasso_reg_ten]"
   ]
  },
  {
   "cell_type": "code",
   "execution_count": 17,
   "id": "83041072",
   "metadata": {},
   "outputs": [
    {
     "name": "stdout",
     "output_type": "stream",
     "text": [
      "RMSE of LASSO model with alpha = 0.01  is  3.8069347793672295\n",
      "RMSE of LASSO model with alpha = 0.1  is  3.831339862361522\n",
      "RMSE of LASSO model with alpha = 1  is  4.455651227470317\n",
      "RMSE of LASSO model with alpha = 10  is  5.904126108704242\n"
     ]
    }
   ],
   "source": [
    "for model_lasso, alpha in zip(models_lasso,alphas):\n",
    "    y_medv_validation_lasso = model_lasso.predict(x_data_validation)\n",
    "    rmse_lasso = np.sqrt(mean_squared_error(y_data_validation,y_medv_validation_lasso))\n",
    "    print('RMSE of LASSO model with alpha =', alpha,' is ',rmse_lasso)\n",
    "    "
   ]
  },
  {
   "cell_type": "markdown",
   "id": "152fc834",
   "metadata": {},
   "source": [
    "Ridge model with alpha = 1 is the best model "
   ]
  },
  {
   "cell_type": "code",
   "execution_count": 18,
   "id": "c60b1b8f",
   "metadata": {},
   "outputs": [],
   "source": [
    "best_model = ridge_reg_one"
   ]
  },
  {
   "cell_type": "markdown",
   "id": "eb752104",
   "metadata": {},
   "source": [
    "#### C. Model Evaluation"
   ]
  },
  {
   "cell_type": "code",
   "execution_count": 23,
   "id": "00069858",
   "metadata": {},
   "outputs": [
    {
     "data": {
      "text/html": [
       "<div>\n",
       "<style scoped>\n",
       "    .dataframe tbody tr th:only-of-type {\n",
       "        vertical-align: middle;\n",
       "    }\n",
       "\n",
       "    .dataframe tbody tr th {\n",
       "        vertical-align: top;\n",
       "    }\n",
       "\n",
       "    .dataframe thead th {\n",
       "        text-align: right;\n",
       "    }\n",
       "</style>\n",
       "<table border=\"1\" class=\"dataframe\">\n",
       "  <thead>\n",
       "    <tr style=\"text-align: right;\">\n",
       "      <th></th>\n",
       "      <th>feature</th>\n",
       "      <th>coefficient</th>\n",
       "    </tr>\n",
       "  </thead>\n",
       "  <tbody>\n",
       "    <tr>\n",
       "      <th>0</th>\n",
       "      <td>intercept</td>\n",
       "      <td>25.753573</td>\n",
       "    </tr>\n",
       "    <tr>\n",
       "      <th>1</th>\n",
       "      <td>crim</td>\n",
       "      <td>-0.130035</td>\n",
       "    </tr>\n",
       "    <tr>\n",
       "      <th>2</th>\n",
       "      <td>zn</td>\n",
       "      <td>0.039004</td>\n",
       "    </tr>\n",
       "    <tr>\n",
       "      <th>3</th>\n",
       "      <td>indus</td>\n",
       "      <td>-0.145408</td>\n",
       "    </tr>\n",
       "    <tr>\n",
       "      <th>4</th>\n",
       "      <td>chas</td>\n",
       "      <td>1.990875</td>\n",
       "    </tr>\n",
       "    <tr>\n",
       "      <th>5</th>\n",
       "      <td>nox</td>\n",
       "      <td>-6.712162</td>\n",
       "    </tr>\n",
       "    <tr>\n",
       "      <th>6</th>\n",
       "      <td>rm</td>\n",
       "      <td>4.030237</td>\n",
       "    </tr>\n",
       "    <tr>\n",
       "      <th>7</th>\n",
       "      <td>age</td>\n",
       "      <td>-0.008529</td>\n",
       "    </tr>\n",
       "    <tr>\n",
       "      <th>8</th>\n",
       "      <td>dis</td>\n",
       "      <td>-1.318559</td>\n",
       "    </tr>\n",
       "    <tr>\n",
       "      <th>9</th>\n",
       "      <td>rad</td>\n",
       "      <td>0.101550</td>\n",
       "    </tr>\n",
       "    <tr>\n",
       "      <th>10</th>\n",
       "      <td>ptratio</td>\n",
       "      <td>-0.824004</td>\n",
       "    </tr>\n",
       "    <tr>\n",
       "      <th>11</th>\n",
       "      <td>black</td>\n",
       "      <td>0.009725</td>\n",
       "    </tr>\n",
       "    <tr>\n",
       "      <th>12</th>\n",
       "      <td>lstat</td>\n",
       "      <td>-0.569894</td>\n",
       "    </tr>\n",
       "  </tbody>\n",
       "</table>\n",
       "</div>"
      ],
      "text/plain": [
       "      feature  coefficient\n",
       "0   intercept    25.753573\n",
       "1        crim    -0.130035\n",
       "2          zn     0.039004\n",
       "3       indus    -0.145408\n",
       "4        chas     1.990875\n",
       "5         nox    -6.712162\n",
       "6          rm     4.030237\n",
       "7         age    -0.008529\n",
       "8         dis    -1.318559\n",
       "9         rad     0.101550\n",
       "10    ptratio    -0.824004\n",
       "11      black     0.009725\n",
       "12      lstat    -0.569894"
      ]
     },
     "execution_count": 23,
     "metadata": {},
     "output_type": "execute_result"
    }
   ],
   "source": [
    "#create coefficient dataframe\n",
    "coef_df = pd.DataFrame({\n",
    "     'feature':['intercept'] + feature_train_data.columns.tolist(),\n",
    "    'coefficient':[best_model.intercept_] + list(best_model.coef_)\n",
    "})\n",
    "coef_df"
   ]
  },
  {
   "cell_type": "markdown",
   "id": "6ab409b1",
   "metadata": {},
   "source": [
    "Diagnostic Study "
   ]
  },
  {
   "cell_type": "code",
   "execution_count": 25,
   "id": "1619ee24",
   "metadata": {},
   "outputs": [
    {
     "name": "stdout",
     "output_type": "stream",
     "text": [
      "R-squared training data: 0.7617022653846209\n"
     ]
    }
   ],
   "source": [
    "from sklearn.metrics import r2_score\n",
    "\n",
    "y_predict_train = best_model.predict(x_data_train)\n",
    "print('R-squared training data: {}'.format(r2_score(y_data_train, y_predict_train)))"
   ]
  },
  {
   "cell_type": "code",
   "execution_count": 33,
   "id": "ec32dfe5",
   "metadata": {},
   "outputs": [
    {
     "data": {
      "text/plain": [
       "<matplotlib.lines.Line2D at 0x22c3fd1e040>"
      ]
     },
     "execution_count": 33,
     "metadata": {},
     "output_type": "execute_result"
    },
    {
     "data": {
      "image/png": "[encoded data removed]",
      "text/plain": [
       "<Figure size 576x360 with 1 Axes>"
      ]
     },
     "metadata": {
      "needs_background": "light"
     },
     "output_type": "display_data"
    }
   ],
   "source": [
    "# define residual \n",
    "residual = y_data_train - y_predict_train\n",
    "#create residual dataframe \n",
    "df_resid = pd.DataFrame({\n",
    "     'predicted_value': y_predict_train,\n",
    "    'residual': residual\n",
    "})\n",
    "# plotting\n",
    "plt.figure(figsize=(8,5))\n",
    "sns.scatterplot(x = df_resid['predicted_value'], y = df_resid['residual'], alpha = 0.7)\n",
    "plt.axhline(0)"
   ]
  },
  {
   "cell_type": "markdown",
   "id": "65dd5bfe",
   "metadata": {},
   "source": [
    "### 6. Training Error "
   ]
  },
  {
   "cell_type": "code",
   "execution_count": 19,
   "id": "8580000b",
   "metadata": {},
   "outputs": [],
   "source": [
    "y_train_predict = best_model.predict(x_data_train)\n",
    "\n",
    "from sklearn.metrics import mean_absolute_error\n",
    "from sklearn.metrics import mean_absolute_percentage_error\n",
    "from sklearn.metrics import mean_squared_error"
   ]
  },
  {
   "cell_type": "code",
   "execution_count": 20,
   "id": "2f91c591",
   "metadata": {},
   "outputs": [
    {
     "name": "stdout",
     "output_type": "stream",
     "text": [
      "MAE for training data is 3.151174238535841\n",
      "MAPE for training data is 0.15740860489545824\n",
      "RMSE for training data is 4.43251368644229\n"
     ]
    }
   ],
   "source": [
    "print('MAE for training data is {}'.format(mean_absolute_error(y_data_train,y_train_predict)))\n",
    "print('MAPE for training data is {}'.format(mean_absolute_percentage_error(y_data_train,y_train_predict)))\n",
    "print('RMSE for training data is {}'.format(np.sqrt(mean_squared_error(y_data_train,y_train_predict))))"
   ]
  },
  {
   "cell_type": "markdown",
   "id": "00106416",
   "metadata": {},
   "source": [
    "### 7. Testing Error"
   ]
  },
  {
   "cell_type": "code",
   "execution_count": 21,
   "id": "5cc0da0f",
   "metadata": {},
   "outputs": [],
   "source": [
    "# defining variables for testing (using test data)\n",
    "x_data_test = feature_test_data.to_numpy()\n",
    "y_test_predict = best_model.predict(x_data_test)\n",
    "\n",
    "# Ground Truth target\n",
    "y_data_test = target_test_data.to_numpy()\n",
    "y_data_test = y_data_test.reshape(len(y_data_test))"
   ]
  },
  {
   "cell_type": "code",
   "execution_count": 22,
   "id": "9fa0c532",
   "metadata": {},
   "outputs": [
    {
     "name": "stdout",
     "output_type": "stream",
     "text": [
      "MAE for testing data is 4.098676878037026\n",
      "MAPE for testing data is 0.20842860015820255\n",
      "RMSE for testing data is 6.390491254385666\n"
     ]
    }
   ],
   "source": [
    "print('MAE for testing data is {}'.format(mean_absolute_error(y_data_test,y_test_predict)))\n",
    "print('MAPE for testing data is {}'.format(mean_absolute_percentage_error(y_data_test,y_test_predict)))\n",
    "print('RMSE for testing data is {}'.format(np.sqrt(mean_squared_error(y_data_test,y_test_predict))))"
   ]
  },
  {
   "cell_type": "markdown",
   "id": "261da78c",
   "metadata": {},
   "source": [
    "The best model for this dataset is a ridge using MAE(mean absolute error)"
   ]
  },
  {
   "cell_type": "code",
   "execution_count": null,
   "id": "42b876bc",
   "metadata": {},
   "outputs": [],
   "source": []
  }
 ],
 "metadata": {
  "kernelspec": {
   "display_name": "Python 3 (ipykernel)",
   "language": "python",
   "name": "python3"
  },
  "language_info": {
   "codemirror_mode": {
    "name": "ipython",
    "version": 3
   },
   "file_extension": ".py",
   "mimetype": "text/x-python",
   "name": "python",
   "nbconvert_exporter": "python",
   "pygments_lexer": "ipython3",
   "version": "3.9.7"
  }
 },
 "nbformat": 4,
 "nbformat_minor": 5
}
